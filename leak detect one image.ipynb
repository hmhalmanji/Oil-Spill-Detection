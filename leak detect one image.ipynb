{
 "cells": [
  {
   "cell_type": "code",
   "execution_count": 2,
   "metadata": {},
   "outputs": [
    {
     "name": "stdout",
     "output_type": "stream",
     "text": [
      "{\"message\":\"Success\",\"result\":[{\"message\":\"Success\",\"input\":\"FAR_AREA_PhotoCamera_g201b20205_f002_860.jpeg\",\"prediction\":[]}]}\n"
     ]
    }
   ],
   "source": [
    "import requests\n",
    "\n",
    "url = 'https://app.nanonets.com/api/v2/ObjectDetection/Model/cdae82fe-76e4-4bcd-ab81-aefd9686a711/LabelFile/'\n",
    "\n",
    "data = {'file': open('C://Users/pc55/Desktop/AI Spill Detection/Leak Detected/Test/FAR_AREA_PhotoCamera_g201b20205_f002_860.jpeg', 'rb')}\n",
    "\n",
    "response = requests.post(url, auth=requests.auth.HTTPBasicAuth('zyVyySfjVhLVmNSAzjho341FdF6BHmBW', ''), files=data)\n",
    "\n",
    "print(response.text)"
   ]
  },
  {
   "cell_type": "code",
   "execution_count": null,
   "metadata": {},
   "outputs": [],
   "source": []
  }
 ],
 "metadata": {
  "kernelspec": {
   "display_name": "Python 3",
   "language": "python",
   "name": "python3"
  },
  "language_info": {
   "codemirror_mode": {
    "name": "ipython",
    "version": 3
   },
   "file_extension": ".py",
   "mimetype": "text/x-python",
   "name": "python",
   "nbconvert_exporter": "python",
   "pygments_lexer": "ipython3",
   "version": "3.7.4"
  }
 },
 "nbformat": 4,
 "nbformat_minor": 2
}
