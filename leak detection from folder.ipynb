{
 "cells": [
  {
   "cell_type": "code",
   "execution_count": 4,
   "metadata": {},
   "outputs": [
    {
     "name": "stdout",
     "output_type": "stream",
     "text": [
      "Requirement already satisfied: opencv-python in c:\\users\\pc55\\anaconda3\\envs\\python3\\lib\\site-packages (4.1.1.26)\n",
      "Requirement already satisfied: numpy>=1.14.5 in c:\\users\\pc55\\anaconda3\\envs\\python3\\lib\\site-packages (from opencv-python) (1.16.5)\n",
      "Note: you may need to restart the kernel to use updated packages.\n"
     ]
    }
   ],
   "source": [
    "pip install opencv-python"
   ]
  },
  {
   "cell_type": "code",
   "execution_count": 1,
   "metadata": {
    "scrolled": false
   },
   "outputs": [
    {
     "name": "stdout",
     "output_type": "stream",
     "text": [
      "{\"message\":\"success\",\"result\":[{\"message\":\"success\",\"input\":\"Lekhwair_A_18102019_OilLeak_1.JPG\",\"prediction\":[{\"label\":\"Oil_Spill\",\"xmin\":2288,\"ymin\":3460,\"xmax\":3777,\"ymax\":4410,\"score\":0.98973596},{\"label\":\"Oil_Spill\",\"xmin\":1094,\"ymin\":887,\"xmax\":3475,\"ymax\":2638,\"score\":0.7464658},{\"label\":\"Oil_Spill\",\"xmin\":6027,\"ymin\":2143,\"xmax\":7464,\"ymax\":2941,\"score\":0.5593182}]}]}\n",
      "{\"message\":\"success\",\"result\":[{\"message\":\"success\",\"input\":\"Lekhwair_A_18102019_OilLeak_2.JPG\",\"prediction\":[{\"label\":\"Oil_Spill\",\"xmin\":2390,\"ymin\":963,\"xmax\":3918,\"ymax\":3647,\"score\":0.8484105},{\"label\":\"Oil_Spill\",\"xmin\":4591,\"ymin\":2506,\"xmax\":6104,\"ymax\":5304,\"score\":0.7644621}]}]}\n",
      "{\"message\":\"success\",\"result\":[{\"message\":\"success\",\"input\":\"Lekhwair_A_18102019_OilLeak_3.JPG\",\"prediction\":[{\"label\":\"Oil_Spill\",\"xmin\":3117,\"ymin\":2609,\"xmax\":4050,\"ymax\":3131,\"score\":0.88227946},{\"label\":\"Oil_Spill\",\"xmin\":3032,\"ymin\":2521,\"xmax\":4189,\"ymax\":3298,\"score\":0.82927674},{\"label\":\"Oil_Spill\",\"xmin\":0,\"ymin\":2775,\"xmax\":476,\"ymax\":3257,\"score\":0.81166947}]}]}\n",
      "{\"message\":\"success\",\"result\":[{\"message\":\"success\",\"input\":\"Lekhwair_A_18102019_OilLeak_4.JPG\",\"prediction\":[{\"label\":\"Oil_Spill\",\"xmin\":1251,\"ymin\":2134,\"xmax\":3944,\"ymax\":3649,\"score\":0.92934614},{\"label\":\"Oil_Spill\",\"xmin\":742,\"ymin\":1709,\"xmax\":4212,\"ymax\":3912,\"score\":0.69565713}]}]}\n",
      "{\"message\":\"success\",\"result\":[{\"message\":\"success\",\"input\":\"Lekhwair_A_18102019_SandunesAccumulation_1.JPG\",\"prediction\":[{\"label\":\"Oil_Spill\",\"xmin\":6601,\"ymin\":3961,\"xmax\":7845,\"ymax\":5125,\"score\":0.9722783},{\"label\":\"Oil_Spill\",\"xmin\":7174,\"ymin\":405,\"xmax\":7825,\"ymax\":1684,\"score\":0.67206746},{\"label\":\"Oil_Spill\",\"xmin\":7269,\"ymin\":610,\"xmax\":7769,\"ymax\":1509,\"score\":0.63743615}]}]}\n",
      "{\"message\":\"success\",\"result\":[{\"message\":\"success\",\"input\":\"Lekhwair_A_18102019_SandunesAccumulation_2.JPG\",\"prediction\":[{\"label\":\"Oil_Spill\",\"xmin\":6133,\"ymin\":2694,\"xmax\":7395,\"ymax\":5304,\"score\":0.9456986}]}]}\n",
      "{\"message\":\"success\",\"result\":[{\"message\":\"success\",\"input\":\"Lekhwair_A_18102019_SandunesAccumulation_3.JPG\",\"prediction\":[]}]}\n",
      "{\"message\":\"success\",\"result\":[{\"message\":\"success\",\"input\":\"Lekhwair_A_18102019_SandunesAccumulation_4.JPG\",\"prediction\":[{\"label\":\"Oil_Spill\",\"xmin\":2899,\"ymin\":1896,\"xmax\":4140,\"ymax\":2986,\"score\":0.84943086},{\"label\":\"Oil_Spill\",\"xmin\":4547,\"ymin\":860,\"xmax\":5073,\"ymax\":1376,\"score\":0.80022955},{\"label\":\"Oil_Spill\",\"xmin\":2441,\"ymin\":3649,\"xmax\":3189,\"ymax\":4069,\"score\":0.68612534},{\"label\":\"Oil_Spill\",\"xmin\":2687,\"ymin\":1728,\"xmax\":4243,\"ymax\":3189,\"score\":0.54258764}]}]}\n",
      "{\"message\":\"success\",\"result\":[{\"message\":\"success\",\"input\":\"Lekhwair_A_18102019_SandunesAccumulation_5.JPG\",\"prediction\":[]}]}\n",
      "{\"message\":\"success\",\"result\":[{\"message\":\"success\",\"input\":\"Lekhwair_A_18102019_SandunesAccumulation_6.JPG\",\"prediction\":[{\"label\":\"Oil_Spill\",\"xmin\":5662,\"ymin\":154,\"xmax\":7952,\"ymax\":1208,\"score\":0.58266485}]}]}\n",
      "{\"message\":\"success\",\"result\":[{\"message\":\"success\",\"input\":\"Lekhwair_A_18102019_SandunesAccumulation_7.JPG\",\"prediction\":[{\"label\":\"Oil_Spill\",\"xmin\":65,\"ymin\":192,\"xmax\":1187,\"ymax\":1449,\"score\":0.84434694}]}]}\n",
      "Duration: 0:01:31.018626\n"
     ]
    }
   ],
   "source": [
    "import requests\n",
    "import cv2\n",
    "import glob\n",
    "import json\n",
    "from datetime import datetime\n",
    "\n",
    "\n",
    "start_time = datetime.now()\n",
    "\n",
    "\n",
    "url = 'http://localhost:8081/'\n",
    "#url = 'https://app.nanonets.com/api/v2/ObjectDetection/Model/cdae82fe-76e4-4bcd-ab81-aefd9686a711/LabelFile/'\n",
    "\n",
    "filepath = ('C:\\\\Users\\\\pc55\\\\Desktop\\\\Anomalies\\\\*.*') # change this path\n",
    "save_filepath = 'C:\\\\Users\\\\pc55\\\\Desktop\\\\Anomalies\\\\'# change this path\n",
    "\n",
    "#data1 =[]\n",
    "score1 = []\n",
    "\n",
    "\n",
    "for bb,f1 in enumerate (glob.glob(filepath)):\n",
    "    data = {'file': open(f1, 'rb')}\n",
    "    \n",
    "    response = requests.post(url, auth=requests.auth.HTTPBasicAuth('API_KEY', ''), files=data)\n",
    "    print(response.text)\n",
    "    \n",
    "    img = cv2.imread(f1)\n",
    "    \n",
    "    #data1.append(img)\n",
    "    \n",
    "    response_json = json.loads(response.text)\n",
    "    \n",
    "    prediction = response_json[\"result\"][0][\"prediction\"]\n",
    "    \n",
    "    SCORE_MIN_THRESHOLD = 0.70 # experiment with different threshold level between 0.0-1.0\n",
    "    \n",
    "    for i in prediction:\n",
    "        score1.append(i['score'])\n",
    "        if max(score1) >= SCORE_MIN_THRESHOLD:\n",
    "            img = cv2.rectangle(img,(i['xmin'],i['ymin']),(i['xmax'],i['ymax']),(0,0,255),2)\n",
    "            cv2.imwrite(save_filepath+'predict_leak\\\\leak{}.jpg'.format(bb), img)\n",
    "        \n",
    "        if max(score1) < SCORE_MIN_THRESHOLD:\n",
    "            cv2.imwrite(save_filepath+'predict_noLeak\\\\noLeak{}.jpg'.format(bb), img)\n",
    "            \n",
    "    if (len(score1) ==0):\n",
    "        cv2.imwrite(save_filepath+'predict_noLeak\\\\noLeak{}.jpg'.format(bb), img)\n",
    "               \n",
    "    #print (score1)\n",
    "    #print (len(score1))\n",
    "    score1=[]\n",
    "\n",
    "end_time = datetime.now()\n",
    "print('Duration: {}'.format(end_time - start_time))"
   ]
  },
  {
   "cell_type": "code",
   "execution_count": null,
   "metadata": {},
   "outputs": [],
   "source": []
  }
 ],
 "metadata": {
  "kernelspec": {
   "display_name": "Python 3",
   "language": "python",
   "name": "python3"
  },
  "language_info": {
   "codemirror_mode": {
    "name": "ipython",
    "version": 3
   },
   "file_extension": ".py",
   "mimetype": "text/x-python",
   "name": "python",
   "nbconvert_exporter": "python",
   "pygments_lexer": "ipython3",
   "version": "3.7.4"
  }
 },
 "nbformat": 4,
 "nbformat_minor": 2
}
