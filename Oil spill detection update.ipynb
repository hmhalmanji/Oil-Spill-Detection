{
 "cells": [
  {
   "cell_type": "code",
   "execution_count": 1,
   "metadata": {},
   "outputs": [
    {
     "name": "stdout",
     "output_type": "stream",
     "text": [
      "{\"message\":\"success\",\"result\":[{\"message\":\"success\",\"input\":\"20191021_0751_Flight_04_00493.JPG\",\"prediction\":[{\"label\":\"Oil_Spill\",\"xmin\":6119,\"ymin\":4393,\"xmax\":7595,\"ymax\":5256,\"score\":0.9945192}]}]}\n",
      "{\"message\":\"success\",\"result\":[{\"message\":\"success\",\"input\":\"20191021_0751_Flight_04_00499.JPG\",\"prediction\":[{\"label\":\"Oil_Spill\",\"xmin\":46,\"ymin\":74,\"xmax\":1640,\"ymax\":1109,\"score\":0.98141795},{\"label\":\"Sand_Accumulation\",\"xmin\":4033,\"ymin\":1557,\"xmax\":4664,\"ymax\":2142,\"score\":0.9552143},{\"label\":\"Sand_Accumulation\",\"xmin\":7110,\"ymin\":4823,\"xmax\":7927,\"ymax\":5304,\"score\":0.62040573}]}]}\n",
      "{\"message\":\"success\",\"result\":[{\"message\":\"success\",\"input\":\"20191021_0751_Flight_04_00589.JPG\",\"prediction\":[{\"label\":\"Oil_Spill\",\"xmin\":4543,\"ymin\":155,\"xmax\":6490,\"ymax\":1184,\"score\":0.98722315},{\"label\":\"Sand_Accumulation\",\"xmin\":1037,\"ymin\":488,\"xmax\":1682,\"ymax\":983,\"score\":0.95218706},{\"label\":\"Sand_Accumulation\",\"xmin\":5580,\"ymin\":9,\"xmax\":6354,\"ymax\":325,\"score\":0.8062468},{\"label\":\"Sand_Accumulation\",\"xmin\":5172,\"ymin\":46,\"xmax\":5704,\"ymax\":429,\"score\":0.75764984},{\"label\":\"Sand_Accumulation\",\"xmin\":5282,\"ymin\":13,\"xmax\":6444,\"ymax\":413,\"score\":0.5291408}]}]}\n",
      "{\"message\":\"success\",\"result\":[{\"message\":\"success\",\"input\":\"20191021_0751_Flight_04_00590.JPG\",\"prediction\":[{\"label\":\"Oil_Spill\",\"xmin\":5025,\"ymin\":1821,\"xmax\":6716,\"ymax\":2810,\"score\":0.9884652},{\"label\":\"Sand_Accumulation\",\"xmin\":1424,\"ymin\":2011,\"xmax\":2046,\"ymax\":2512,\"score\":0.87699205},{\"label\":\"Sand_Accumulation\",\"xmin\":6951,\"ymin\":747,\"xmax\":7912,\"ymax\":1566,\"score\":0.8492125},{\"label\":\"Sand_Accumulation\",\"xmin\":5897,\"ymin\":1565,\"xmax\":6601,\"ymax\":1971,\"score\":0.72825325}]}]}\n",
      "{\"message\":\"success\",\"result\":[{\"message\":\"success\",\"input\":\"20191021_0751_Flight_04_00598.JPG\",\"prediction\":[{\"label\":\"Oil_Spill\",\"xmin\":36,\"ymin\":3099,\"xmax\":1061,\"ymax\":4574,\"score\":0.99107003},{\"label\":\"Oil_Spill\",\"xmin\":4018,\"ymin\":1427,\"xmax\":5999,\"ymax\":2419,\"score\":0.93650055},{\"label\":\"Sand_Accumulation\",\"xmin\":2769,\"ymin\":2347,\"xmax\":3549,\"ymax\":2866,\"score\":0.8760026},{\"label\":\"Sand_Accumulation\",\"xmin\":766,\"ymin\":2646,\"xmax\":1551,\"ymax\":3060,\"score\":0.6877229},{\"label\":\"Sand_Accumulation\",\"xmin\":4142,\"ymin\":2192,\"xmax\":4812,\"ymax\":2617,\"score\":0.55068797}]}]}\n",
      "{\"message\":\"success\",\"result\":[{\"message\":\"success\",\"input\":\"20191021_0751_Flight_04_00688.JPG\",\"prediction\":[{\"label\":\"Oil_Spill\",\"xmin\":1408,\"ymin\":3082,\"xmax\":3350,\"ymax\":4082,\"score\":0.9876708},{\"label\":\"Sand_Accumulation\",\"xmin\":3606,\"ymin\":2062,\"xmax\":4307,\"ymax\":2787,\"score\":0.87917835},{\"label\":\"Oil_Spill\",\"xmin\":5790,\"ymin\":0,\"xmax\":7777,\"ymax\":966,\"score\":0.8737655},{\"label\":\"Sand_Accumulation\",\"xmin\":2502,\"ymin\":2900,\"xmax\":3192,\"ymax\":3302,\"score\":0.7882935},{\"label\":\"Sand_Accumulation\",\"xmin\":5645,\"ymin\":1082,\"xmax\":6360,\"ymax\":1646,\"score\":0.74238706}]}]}\n",
      "{\"message\":\"success\",\"result\":[{\"message\":\"success\",\"input\":\"20191021_0751_Flight_04_00694.JPG\",\"prediction\":[{\"label\":\"Sand_Accumulation\",\"xmin\":6604,\"ymin\":2513,\"xmax\":7376,\"ymax\":3035,\"score\":0.95891625},{\"label\":\"Oil_Spill\",\"xmin\":2071,\"ymin\":3090,\"xmax\":4538,\"ymax\":4740,\"score\":0.9202836},{\"label\":\"Oil_Spill\",\"xmin\":8,\"ymin\":2340,\"xmax\":477,\"ymax\":2864,\"score\":0.91481704},{\"label\":\"Oil_Spill\",\"xmin\":8,\"ymin\":2827,\"xmax\":2021,\"ymax\":4525,\"score\":0.8834587},{\"label\":\"Oil_Spill\",\"xmin\":2460,\"ymin\":3507,\"xmax\":3364,\"ymax\":4668,\"score\":0.79540247},{\"label\":\"Oil_Spill\",\"xmin\":849,\"ymin\":3627,\"xmax\":1962,\"ymax\":4435,\"score\":0.62623566},{\"label\":\"Oil_Spill\",\"xmin\":114,\"ymin\":2998,\"xmax\":3686,\"ymax\":4733,\"score\":0.6053186}]}]}\n",
      "{\"message\":\"success\",\"result\":[{\"message\":\"success\",\"input\":\"20191021_0751_Flight_04_00695.JPG\",\"prediction\":[{\"label\":\"Oil_Spill\",\"xmin\":2069,\"ymin\":4988,\"xmax\":3192,\"ymax\":5287,\"score\":0.97022206},{\"label\":\"Sand_Accumulation\",\"xmin\":6143,\"ymin\":4078,\"xmax\":6820,\"ymax\":4586,\"score\":0.9697058},{\"label\":\"Oil_Spill\",\"xmin\":7338,\"ymin\":3420,\"xmax\":7933,\"ymax\":4140,\"score\":0.9658117},{\"label\":\"Oil_Spill\",\"xmin\":3405,\"ymin\":4680,\"xmax\":3954,\"ymax\":5288,\"score\":0.90368813},{\"label\":\"Oil_Spill\",\"xmin\":24,\"ymin\":4310,\"xmax\":1481,\"ymax\":5293,\"score\":0.88066405},{\"label\":\"Oil_Spill\",\"xmin\":627,\"ymin\":4616,\"xmax\":4209,\"ymax\":5255,\"score\":0.72656924},{\"label\":\"Oil_Spill\",\"xmin\":125,\"ymin\":4321,\"xmax\":2589,\"ymax\":5256,\"score\":0.6015215},{\"label\":\"Sand_Accumulation\",\"xmin\":572,\"ymin\":3868,\"xmax\":1340,\"ymax\":4342,\"score\":0.58657813},{\"label\":\"Sand_Accumulation\",\"xmin\":5027,\"ymin\":4224,\"xmax\":5611,\"ymax\":4723,\"score\":0.58546287},{\"label\":\"Sand_Accumulation\",\"xmin\":5943,\"ymin\":4023,\"xmax\":6963,\"ymax\":4704,\"score\":0.55242896}]}]}\n",
      "{\"message\":\"success\",\"result\":[{\"message\":\"success\",\"input\":\"20191102_2312_Flight_01_00058.JPG\",\"prediction\":[]}]}\n",
      "Duration: 0:02:35.224307\n"
     ]
    }
   ],
   "source": [
    "import requests\n",
    "import cv2\n",
    "import glob\n",
    "import json\n",
    "import os\n",
    "from datetime import datetime\n",
    "\n",
    "start_time = datetime.now()\n",
    "\n",
    "url = 'http://localhost:8081/'\n",
    "#url = 'https://app.nanonets.com/api/v2/ObjectDetection/Model/cdae82fe-76e4-4bcd-ab81-aefd9686a711/LabelFile/'\n",
    "\n",
    "filepath = ('C:\\\\Users\\\\sami\\\\Desktop\\\\sand leak\\\\*.*') # change this path\n",
    "save_anomaly_path = 'C:\\\\Users\\\\sami\\\\Desktop\\\\sand leak\\\\predict_leak\\\\'# change this path\n",
    "save_none_path = 'C:\\\\Users\\\\sami\\\\Desktop\\\\sand leak\\\\predict_noLeak\\\\'# change this path\n",
    "\n",
    "leak =[]\n",
    "\n",
    "for bb,f1 in enumerate (glob.glob(filepath)):\n",
    "    data = {'file': open(f1, 'rb')}\n",
    "    \n",
    "    response = requests.post(url, auth=requests.auth.HTTPBasicAuth('API_KEY', ''), files=data)\n",
    "    print(response.text)\n",
    "    \n",
    "    img = cv2.imread(f1)\n",
    "    \n",
    "    response_json = json.loads(response.text)\n",
    "    \n",
    "    prediction = response_json[\"result\"][0][\"prediction\"]\n",
    "    \n",
    "    LEAK_MIN_THRESHOLD = 0.60 # experiment with different threshold level between 0.0-1.0\n",
    "        \n",
    "    for i in prediction:\n",
    "        if (i['label']) == ('Oil_Spill'):\n",
    "            leak.append(i['score'])\n",
    "            \n",
    "            if max(leak) >= LEAK_MIN_THRESHOLD:\n",
    "                if (i['score']) >= LEAK_MIN_THRESHOLD:\n",
    "                    img = cv2.rectangle(img,(i['xmin'],i['ymin']),(i['xmax'],i['ymax']),(0,0,255),10)\n",
    "                    #cv2.imwrite(save_filepath+'predict_leak\\\\leak{}.jpg'.format(bb), img)\n",
    "        \n",
    "        cv2.imwrite(save_anomaly_path + str(os.path.basename(f1)) +' leak{}.jpg'.format(bb), img)\n",
    "        \n",
    "        #if (max(leak) < LEAK_MIN_THRESHOLD) & (max(sand) < SAND_MIN_THRESHOLD):\n",
    "            #cv2.imwrite(save_filepath+'predict_none\\\\no{}.jpg'.format(bb), img)\n",
    "                                     \n",
    "            \n",
    "    if len(leak) ==0 :\n",
    "        cv2.imwrite(save_none_path + str(os.path.basename(f1)) +' no{}.jpg'.format(bb), img)\n",
    "                    \n",
    "        \n",
    "    leak=[]    \n",
    "\n",
    "end_time = datetime.now()\n",
    "print('Duration: {}'.format(end_time - start_time))"
   ]
  },
  {
   "cell_type": "code",
   "execution_count": null,
   "metadata": {},
   "outputs": [],
   "source": []
  }
 ],
 "metadata": {
  "kernelspec": {
   "display_name": "Python 3",
   "language": "python",
   "name": "python3"
  },
  "language_info": {
   "codemirror_mode": {
    "name": "ipython",
    "version": 3
   },
   "file_extension": ".py",
   "mimetype": "text/x-python",
   "name": "python",
   "nbconvert_exporter": "python",
   "pygments_lexer": "ipython3",
   "version": "3.7.4"
  }
 },
 "nbformat": 4,
 "nbformat_minor": 2
}
